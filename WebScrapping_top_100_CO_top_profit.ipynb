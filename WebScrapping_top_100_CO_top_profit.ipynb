{
 "cells": [
  {
   "cell_type": "code",
   "execution_count": 1,
   "id": "8887d85f",
   "metadata": {},
   "outputs": [],
   "source": [
    "import pandas as pd\n",
    "import requests\n",
    "from bs4 import BeautifulSoup as bs"
   ]
  },
  {
   "cell_type": "code",
   "execution_count": 2,
   "id": "119e6c6b",
   "metadata": {},
   "outputs": [],
   "source": [
    "url = 'https://en.wikipedia.org/wiki/List_of_largest_companies_in_the_United_States_by_revenue'"
   ]
  },
  {
   "cell_type": "code",
   "execution_count": 3,
   "id": "d522253e",
   "metadata": {},
   "outputs": [],
   "source": [
    "page = requests.get(url)"
   ]
  },
  {
   "cell_type": "code",
   "execution_count": 4,
   "id": "92926f9c",
   "metadata": {},
   "outputs": [],
   "source": [
    "soup = bs(page.text,'html')"
   ]
  },
  {
   "cell_type": "code",
   "execution_count": 5,
   "id": "5d873cbc",
   "metadata": {},
   "outputs": [],
   "source": [
    "table = soup.find_all('table',class_ ='wikitable sortable')[0]"
   ]
  },
  {
   "cell_type": "code",
   "execution_count": 6,
   "id": "f4bace1f",
   "metadata": {},
   "outputs": [],
   "source": [
    "columns = table.find_all('th')"
   ]
  },
  {
   "cell_type": "code",
   "execution_count": 7,
   "id": "3cbb4cf2",
   "metadata": {},
   "outputs": [],
   "source": [
    "columns_ready = [col.text.strip() for col in columns]"
   ]
  },
  {
   "cell_type": "code",
   "execution_count": 8,
   "id": "533313ee",
   "metadata": {},
   "outputs": [],
   "source": [
    " data = table.find_all('tr')"
   ]
  },
  {
   "cell_type": "code",
   "execution_count": 9,
   "id": "4589b71c",
   "metadata": {},
   "outputs": [],
   "source": [
    "data_rows =[]\n",
    "for rows in data[1:]:\n",
    "    extract_rows = rows.find_all('td')\n",
    "    final_data = [row.text.strip() for row in extract_rows]\n",
    "    data_rows.append(final_data)"
   ]
  },
  {
   "cell_type": "code",
   "execution_count": 10,
   "id": "d3bc22e0",
   "metadata": {},
   "outputs": [],
   "source": [
    "top_100_co = pd.DataFrame(data = data_rows, columns = columns_ready )"
   ]
  },
  {
   "cell_type": "code",
   "execution_count": 11,
   "id": "9ae47bb4",
   "metadata": {},
   "outputs": [],
   "source": [
    "pd.set_option('display.max_rows', None)"
   ]
  },
  {
   "cell_type": "code",
   "execution_count": 12,
   "id": "abe3e9c6",
   "metadata": {},
   "outputs": [],
   "source": [
    "table2 = soup.find_all('table', class_ = 'wikitable sortable')[1]"
   ]
  },
  {
   "cell_type": "code",
   "execution_count": 13,
   "id": "ff0459bd",
   "metadata": {},
   "outputs": [],
   "source": [
    "columns = table2.find_all('th')"
   ]
  },
  {
   "cell_type": "code",
   "execution_count": 14,
   "id": "991b24c4",
   "metadata": {},
   "outputs": [],
   "source": [
    "columns_ready = [col.text.strip() for col in columns]"
   ]
  },
  {
   "cell_type": "code",
   "execution_count": 15,
   "id": "c1f14ccd",
   "metadata": {},
   "outputs": [],
   "source": [
    "raw_data = table2.find_all('tr')"
   ]
  },
  {
   "cell_type": "code",
   "execution_count": 16,
   "id": "f036f287",
   "metadata": {},
   "outputs": [],
   "source": [
    "data_ready = []\n",
    "for data in raw_data[1:]:\n",
    "    extract = data.find_all('td')\n",
    "    data_clean = [d.text.strip() for d in extract]\n",
    "    data_ready.append(data_clean)"
   ]
  },
  {
   "cell_type": "code",
   "execution_count": 17,
   "id": "d1da4a17",
   "metadata": {},
   "outputs": [],
   "source": [
    "top_profit = pd.DataFrame(data = data_ready, columns = columns_ready)"
   ]
  },
  {
   "cell_type": "code",
   "execution_count": 18,
   "id": "0ca6c828",
   "metadata": {},
   "outputs": [
    {
     "data": {
      "text/html": [
       "<div>\n",
       "<style scoped>\n",
       "    .dataframe tbody tr th:only-of-type {\n",
       "        vertical-align: middle;\n",
       "    }\n",
       "\n",
       "    .dataframe tbody tr th {\n",
       "        vertical-align: top;\n",
       "    }\n",
       "\n",
       "    .dataframe thead th {\n",
       "        text-align: right;\n",
       "    }\n",
       "</style>\n",
       "<table border=\"1\" class=\"dataframe\">\n",
       "  <thead>\n",
       "    <tr style=\"text-align: right;\">\n",
       "      <th></th>\n",
       "      <th>Rank</th>\n",
       "      <th>Name</th>\n",
       "      <th>Industry</th>\n",
       "      <th>Profits(USD millions)</th>\n",
       "    </tr>\n",
       "  </thead>\n",
       "  <tbody>\n",
       "    <tr>\n",
       "      <th>0</th>\n",
       "      <td>1</td>\n",
       "      <td>Apple</td>\n",
       "      <td>Electronics</td>\n",
       "      <td>94,680</td>\n",
       "    </tr>\n",
       "    <tr>\n",
       "      <th>1</th>\n",
       "      <td>2</td>\n",
       "      <td>Berkshire Hathaway</td>\n",
       "      <td>Conglomerate</td>\n",
       "      <td>89,795</td>\n",
       "    </tr>\n",
       "    <tr>\n",
       "      <th>2</th>\n",
       "      <td>3</td>\n",
       "      <td>Alphabet</td>\n",
       "      <td>Technology</td>\n",
       "      <td>76,033</td>\n",
       "    </tr>\n",
       "    <tr>\n",
       "      <th>3</th>\n",
       "      <td>4</td>\n",
       "      <td>Microsoft</td>\n",
       "      <td>Technology</td>\n",
       "      <td>72,271</td>\n",
       "    </tr>\n",
       "    <tr>\n",
       "      <th>4</th>\n",
       "      <td>5</td>\n",
       "      <td>JPMorgan Chase</td>\n",
       "      <td>Financials</td>\n",
       "      <td>48,334</td>\n",
       "    </tr>\n",
       "    <tr>\n",
       "      <th>5</th>\n",
       "      <td>6</td>\n",
       "      <td>Meta</td>\n",
       "      <td>Technology</td>\n",
       "      <td>39,370</td>\n",
       "    </tr>\n",
       "    <tr>\n",
       "      <th>6</th>\n",
       "      <td>7</td>\n",
       "      <td>Amazon</td>\n",
       "      <td>Retail and Technology</td>\n",
       "      <td>33,364</td>\n",
       "    </tr>\n",
       "    <tr>\n",
       "      <th>7</th>\n",
       "      <td>8</td>\n",
       "      <td>Bank of America</td>\n",
       "      <td>Financials</td>\n",
       "      <td>31,978</td>\n",
       "    </tr>\n",
       "    <tr>\n",
       "      <th>8</th>\n",
       "      <td>9</td>\n",
       "      <td>ExxonMobil</td>\n",
       "      <td>Petroleum industry</td>\n",
       "      <td>23,040</td>\n",
       "    </tr>\n",
       "    <tr>\n",
       "      <th>9</th>\n",
       "      <td>10</td>\n",
       "      <td>Fannie Mae</td>\n",
       "      <td>Financials</td>\n",
       "      <td>22,176</td>\n",
       "    </tr>\n",
       "    <tr>\n",
       "      <th>10</th>\n",
       "      <td>11</td>\n",
       "      <td>Verizon</td>\n",
       "      <td>Telecommunications</td>\n",
       "      <td>22,065</td>\n",
       "    </tr>\n",
       "    <tr>\n",
       "      <th>11</th>\n",
       "      <td>12</td>\n",
       "      <td>Pfizer</td>\n",
       "      <td>Pharmaceutical industry</td>\n",
       "      <td>21,979</td>\n",
       "    </tr>\n",
       "    <tr>\n",
       "      <th>12</th>\n",
       "      <td>13</td>\n",
       "      <td>Citigroup</td>\n",
       "      <td>Financials</td>\n",
       "      <td>21,952</td>\n",
       "    </tr>\n",
       "    <tr>\n",
       "      <th>13</th>\n",
       "      <td>14</td>\n",
       "      <td>Goldman Sachs</td>\n",
       "      <td>Financials</td>\n",
       "      <td>21,635</td>\n",
       "    </tr>\n",
       "    <tr>\n",
       "      <th>14</th>\n",
       "      <td>15</td>\n",
       "      <td>Wells Fargo</td>\n",
       "      <td>Financials</td>\n",
       "      <td>21,548</td>\n",
       "    </tr>\n",
       "    <tr>\n",
       "      <th>15</th>\n",
       "      <td>16</td>\n",
       "      <td>Johnson &amp; Johnson</td>\n",
       "      <td>Pharmaceutical industry</td>\n",
       "      <td>20,878</td>\n",
       "    </tr>\n",
       "    <tr>\n",
       "      <th>16</th>\n",
       "      <td>17</td>\n",
       "      <td>AT&amp;T</td>\n",
       "      <td>Telecommunications</td>\n",
       "      <td>20,081</td>\n",
       "    </tr>\n",
       "    <tr>\n",
       "      <th>17</th>\n",
       "      <td>18</td>\n",
       "      <td>Intel</td>\n",
       "      <td>Technology</td>\n",
       "      <td>19,868</td>\n",
       "    </tr>\n",
       "    <tr>\n",
       "      <th>18</th>\n",
       "      <td>19</td>\n",
       "      <td>Ford Motor Company</td>\n",
       "      <td>Automotive</td>\n",
       "      <td>17,937</td>\n",
       "    </tr>\n",
       "    <tr>\n",
       "      <th>19</th>\n",
       "      <td>20</td>\n",
       "      <td>UnitedHealth Group</td>\n",
       "      <td>Healthcare</td>\n",
       "      <td>17,285</td>\n",
       "    </tr>\n",
       "  </tbody>\n",
       "</table>\n",
       "</div>"
      ],
      "text/plain": [
       "   Rank                Name                 Industry Profits(USD millions)\n",
       "0     1               Apple              Electronics                94,680\n",
       "1     2  Berkshire Hathaway             Conglomerate                89,795\n",
       "2     3            Alphabet               Technology                76,033\n",
       "3     4           Microsoft               Technology                72,271\n",
       "4     5      JPMorgan Chase               Financials                48,334\n",
       "5     6                Meta               Technology                39,370\n",
       "6     7              Amazon    Retail and Technology                33,364\n",
       "7     8     Bank of America               Financials                31,978\n",
       "8     9          ExxonMobil       Petroleum industry                23,040\n",
       "9    10          Fannie Mae               Financials                22,176\n",
       "10   11             Verizon       Telecommunications                22,065\n",
       "11   12              Pfizer  Pharmaceutical industry                21,979\n",
       "12   13           Citigroup               Financials                21,952\n",
       "13   14       Goldman Sachs               Financials                21,635\n",
       "14   15         Wells Fargo               Financials                21,548\n",
       "15   16   Johnson & Johnson  Pharmaceutical industry                20,878\n",
       "16   17                AT&T       Telecommunications                20,081\n",
       "17   18               Intel               Technology                19,868\n",
       "18   19  Ford Motor Company               Automotive                17,937\n",
       "19   20  UnitedHealth Group               Healthcare                17,285"
      ]
     },
     "execution_count": 18,
     "metadata": {},
     "output_type": "execute_result"
    }
   ],
   "source": [
    "top_profit"
   ]
  }
 ],
 "metadata": {
  "kernelspec": {
   "display_name": "Python 3 (ipykernel)",
   "language": "python",
   "name": "python3"
  },
  "language_info": {
   "codemirror_mode": {
    "name": "ipython",
    "version": 3
   },
   "file_extension": ".py",
   "mimetype": "text/x-python",
   "name": "python",
   "nbconvert_exporter": "python",
   "pygments_lexer": "ipython3",
   "version": "3.10.9"
  }
 },
 "nbformat": 4,
 "nbformat_minor": 5
}
